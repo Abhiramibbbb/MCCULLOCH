{
 "cells": [
  {
   "cell_type": "code",
   "execution_count": null,
   "id": "530ee854-aa86-492b-aa1c-70020aa6c2b0",
   "metadata": {},
   "outputs": [],
   "source": []
  },
  {
   "cell_type": "code",
   "execution_count": null,
   "id": "76513147-ec94-4027-aa63-afdf5b1ffbf6",
   "metadata": {},
   "outputs": [
    {
     "name": "stdout",
     "output_type": "stream",
     "text": [
      "Enter salary:  50000\n",
      "Enter credit score (300-850):  400\n"
     ]
    },
    {
     "name": "stdout",
     "output_type": "stream",
     "text": [
      "Loan Sanctioned\n"
     ]
    }
   ],
   "source": [
    "\n",
    "class LoanAppln:\n",
    " def  __init__(self, w1, w2, s_threshold, cs_threshold):\n",
    "     self.w1 = w1\n",
    "     self.w2 = w2\n",
    "     self.s_threshold = s_threshold\n",
    "     self.cs_threshold = cs_threshold\n",
    " def evaluate(self, salary, credit_score):\n",
    "     b = salary * self.w1\n",
    "     c = credit_score * self.w2\n",
    " \n",
    "     if b >= self.s_threshold and c >= self.cs_threshold:\n",
    "         print('Loan Sanctioned')\n",
    "     else:\n",
    "         print('Loan Rejected')\n",
    "            \n",
    "\n",
    "w1 = 0.016\n",
    "w2 = 0.4\n",
    "\n",
    "# Threshold\n",
    "salary_threshold = 800\n",
    "credit_score_threshold = 160\n",
    "\n",
    "loan_appln = LoanAppln(w1, w2, salary_threshold,credit_score_threshold)\n",
    "\n",
    "# Userinput\n",
    "salary = int(input(\"Enter salary: \"))\n",
    "credit_score = int(input(\"Enter credit score (300-850): \"))\n",
    "\n",
    "# Evaluate the loan\n",
    "loan_appln.evaluate(salary, credit_score)"
   ]
  },
  {
   "cell_type": "code",
   "execution_count": null,
   "id": "a59411f2-9981-416a-80be-b91383a1b766",
   "metadata": {},
   "outputs": [],
   "source": []
  }
 ],
 "metadata": {
  "kernelspec": {
   "display_name": "Python 3 (ipykernel)",
   "language": "python",
   "name": "python3"
  },
  "language_info": {
   "codemirror_mode": {
    "name": "ipython",
    "version": 3
   },
   "file_extension": ".py",
   "mimetype": "text/x-python",
   "name": "python",
   "nbconvert_exporter": "python",
   "pygments_lexer": "ipython3",
   "version": "3.9.7"
  }
 },
 "nbformat": 4,
 "nbformat_minor": 5
}
